{
 "cells": [
  {
   "cell_type": "code",
   "execution_count": 8,
   "metadata": {
    "collapsed": true
   },
   "outputs": [],
   "source": [
    "import pandas as pd\n",
    "from sklearn.neural_network import MLPClassifier\n",
    "from sklearn.model_selection import train_test_split\n",
    "from sklearn.metrics import classification_report"
   ]
  },
  {
   "cell_type": "code",
   "execution_count": 2,
   "metadata": {
    "collapsed": true
   },
   "outputs": [],
   "source": [
    "%matplotlib inline"
   ]
  },
  {
   "cell_type": "code",
   "execution_count": 3,
   "metadata": {
    "collapsed": true
   },
   "outputs": [],
   "source": [
    "train_data = pd.read_csv('data/train.csv')\n",
    "test_data = pd.read_csv('data/test.csv')"
   ]
  },
  {
   "cell_type": "code",
   "execution_count": 12,
   "metadata": {
    "collapsed": true
   },
   "outputs": [],
   "source": [
    "combined_set = pd.concat([train_data, test_data])\n",
    "combined_set['combined_var'] = (combined_set.hair_length * .40) + (combined_set.has_soul * .40)\n",
    "\n",
    "# Replace categorical variables with numbers\n",
    "def label_encoding(df, col):\n",
    "    label_map = { key: float(n) for n, key in enumerate(df[col].unique()) }\n",
    "    label_reverse_map = { label_map[key]: key for key in label_map }\n",
    "    df[col] = df[col].apply(lambda x: label_map[x])\n",
    "    return df, label_map, label_reverse_map\n",
    "\n",
    "combined_set = pd.get_dummies(combined_set, columns=['color'])\n",
    "combined_set\n",
    "\n",
    "train_set = combined_set[:len(train_data.index)]\n",
    "test_set = combined_set[len(train_data.index):]"
   ]
  },
  {
   "cell_type": "code",
   "execution_count": 5,
   "metadata": {
    "collapsed": true
   },
   "outputs": [],
   "source": [
    "monster_types = pd.get_dummies(train_set.type)"
   ]
  },
  {
   "cell_type": "code",
   "execution_count": 6,
   "metadata": {
    "collapsed": true
   },
   "outputs": [],
   "source": [
    "train_cols = ['combined_var', 'rotting_flesh', 'bone_length', 'has_soul', 'hair_length']"
   ]
  },
  {
   "cell_type": "code",
   "execution_count": 18,
   "metadata": {
    "collapsed": false
   },
   "outputs": [
    {
     "name": "stderr",
     "output_type": "stream",
     "text": [
      "/home/jayant/anaconda3/lib/python3.5/site-packages/sklearn/neural_network/multilayer_perceptron.py:563: ConvergenceWarning: Stochastic Optimizer: Maximum iterations reached and the optimization hasn't converged yet.\n",
      "  % (), ConvergenceWarning)\n"
     ]
    },
    {
     "name": "stdout",
     "output_type": "stream",
     "text": [
      "Ghost\n",
      "             precision    recall  f1-score   support\n",
      "\n",
      "          0       0.96      0.88      0.92        84\n",
      "          1       0.71      0.89      0.79        28\n",
      "\n",
      "avg / total       0.90      0.88      0.89       112\n",
      "\n",
      "Ghoul\n",
      "             precision    recall  f1-score   support\n",
      "\n",
      "          0       0.91      0.80      0.85        76\n",
      "          1       0.67      0.83      0.74        36\n",
      "\n",
      "avg / total       0.83      0.81      0.82       112\n",
      "\n",
      "Goblin\n",
      "             precision    recall  f1-score   support\n",
      "\n",
      "          0       0.95      0.71      0.81       104\n",
      "          1       0.12      0.50      0.19         8\n",
      "\n",
      "avg / total       0.89      0.70      0.77       112\n",
      "\n"
     ]
    }
   ],
   "source": [
    "models = {}\n",
    "predictions = {}\n",
    "\n",
    "for monster_type in monster_types.columns:\n",
    "    train = train_set[train_cols]\n",
    "    preds = monster_types[monster_type]\n",
    "    combined_train_set = pd.concat([train[train_cols], preds], axis=1)\n",
    "    p_train, val = train_test_split(combined_train_set, test_size=.30)\n",
    "    model = MLPClassifier()\n",
    "    model.fit(p_train[train_cols], p_train[monster_type])\n",
    "    print(monster_type)\n",
    "    print(classification_report(model.predict(val[train_cols]), val[monster_type]))\n",
    "    preds = model.predict(test_set[train_cols])\n",
    "    predictions[monster_type] = preds\n",
    "    "
   ]
  },
  {
   "cell_type": "code",
   "execution_count": 19,
   "metadata": {
    "collapsed": false
   },
   "outputs": [],
   "source": [
    "final_predictions = pd.np.argmax(pd.DataFrame(predictions).values, axis=1)\n",
    "label_map = {index: col for index, col in enumerate(pd.DataFrame(predictions).columns)}\n",
    "sub = pd.DataFrame({'id': test_set.id, 'type': final_predictions})\n",
    "sub['type'] = sub.type.apply(lambda x: label_map[x])\n",
    "sub.to_csv('nn_ens_solution1.csv', index=False)"
   ]
  },
  {
   "cell_type": "markdown",
   "metadata": {},
   "source": [
    "Score = .54 on public leader board\n",
    "----------------------------------"
   ]
  },
  {
   "cell_type": "code",
   "execution_count": null,
   "metadata": {
    "collapsed": true
   },
   "outputs": [],
   "source": []
  }
 ],
 "metadata": {
  "kernelspec": {
   "display_name": "Python 3",
   "language": "python",
   "name": "python3"
  },
  "language_info": {
   "codemirror_mode": {
    "name": "ipython",
    "version": 3
   },
   "file_extension": ".py",
   "mimetype": "text/x-python",
   "name": "python",
   "nbconvert_exporter": "python",
   "pygments_lexer": "ipython3",
   "version": "3.5.2"
  }
 },
 "nbformat": 4,
 "nbformat_minor": 0
}
