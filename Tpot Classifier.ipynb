{
 "cells": [
  {
   "cell_type": "code",
   "execution_count": 1,
   "metadata": {
    "collapsed": true
   },
   "outputs": [],
   "source": [
    "import pandas as pd\n",
    "from tpot import TPOTClassifier\n",
    "from sklearn.model_selection import train_test_split"
   ]
  },
  {
   "cell_type": "code",
   "execution_count": 2,
   "metadata": {
    "collapsed": true
   },
   "outputs": [],
   "source": [
    "train_data = pd.read_csv('data/train.csv')\n",
    "test_data = pd.read_csv('data/test.csv')"
   ]
  },
  {
   "cell_type": "code",
   "execution_count": 3,
   "metadata": {
    "collapsed": true
   },
   "outputs": [],
   "source": [
    "combined_set = pd.concat([train_data, test_data])\n",
    "combined_set['combined_var'] = (combined_set.hair_length * .40) + (combined_set.has_soul * .40)\n",
    "\n",
    "# Replace categorical variables with numbers\n",
    "def label_encoding(df, col):\n",
    "    label_map = { key: float(n) for n, key in enumerate(df[col].unique()) }\n",
    "    label_reverse_map = { label_map[key]: key for key in label_map }\n",
    "    df[col] = df[col].apply(lambda x: label_map[x])\n",
    "    return df, label_map, label_reverse_map\n",
    "\n",
    "combined_set = pd.get_dummies(combined_set, columns=['color'])\n",
    "combined_set\n",
    "\n",
    "train_set = combined_set[:len(train_data.index)]\n",
    "test_set = combined_set[len(train_data.index):]"
   ]
  },
  {
   "cell_type": "code",
   "execution_count": 4,
   "metadata": {
    "collapsed": true
   },
   "outputs": [],
   "source": [
    "train_cols = ['combined_var', 'rotting_flesh', 'bone_length', 'has_soul', 'hair_length']\n",
    "target_var = ['type']\n",
    "selected_cols = train_cols + target_var"
   ]
  },
  {
   "cell_type": "code",
   "execution_count": 5,
   "metadata": {
    "collapsed": false
   },
   "outputs": [
    {
     "name": "stderr",
     "output_type": "stream",
     "text": [
      "/home/jayant/anaconda3/lib/python3.5/site-packages/ipykernel/__main__.py:8: SettingWithCopyWarning: \n",
      "A value is trying to be set on a copy of a slice from a DataFrame.\n",
      "Try using .loc[row_indexer,col_indexer] = value instead\n",
      "\n",
      "See the caveats in the documentation: http://pandas.pydata.org/pandas-docs/stable/indexing.html#indexing-view-versus-copy\n"
     ]
    }
   ],
   "source": [
    "train_set, type_label_map, type_label_reverse_map = label_encoding(train_set, 'type')"
   ]
  },
  {
   "cell_type": "code",
   "execution_count": 6,
   "metadata": {
    "collapsed": true
   },
   "outputs": [],
   "source": [
    "p_train,val = train_test_split(train_set, train_size=.75, test_size=.25)"
   ]
  },
  {
   "cell_type": "code",
   "execution_count": 7,
   "metadata": {
    "collapsed": false
   },
   "outputs": [
    {
     "data": {
      "text/plain": [
       "((278, 13), (93, 13))"
      ]
     },
     "execution_count": 7,
     "metadata": {},
     "output_type": "execute_result"
    }
   ],
   "source": [
    "p_train.shape, val.shape"
   ]
  },
  {
   "cell_type": "code",
   "execution_count": 8,
   "metadata": {
    "collapsed": false
   },
   "outputs": [
    {
     "data": {
      "text/plain": [
       "array([[ 0.28384169,  0.661752  ,  0.3183162 ,  0.23313558,  0.47646866],\n",
       "       [ 0.48313942,  0.6306694 ,  0.5545096 ,  0.61536431,  0.59248423],\n",
       "       [ 0.56893579,  0.45852253,  0.4165772 ,  0.65400642,  0.76833305],\n",
       "       [ 0.57739325,  0.65731673,  0.52378864,  0.62450389,  0.81897924],\n",
       "       [ 0.56649552,  0.64908767,  0.55982507,  0.65694341,  0.75929538]])"
      ]
     },
     "execution_count": 8,
     "metadata": {},
     "output_type": "execute_result"
    }
   ],
   "source": [
    "p_train[train_cols].head().values"
   ]
  },
  {
   "cell_type": "code",
   "execution_count": 9,
   "metadata": {
    "collapsed": false
   },
   "outputs": [],
   "source": [
    "tpot = TPOTClassifier(verbosity=3)"
   ]
  },
  {
   "cell_type": "code",
   "execution_count": 10,
   "metadata": {
    "collapsed": false
   },
   "outputs": [
    {
     "name": "stdout",
     "output_type": "stream",
     "text": [
      "Help on method fit in module tpot.base:\n",
      "\n",
      "fit(features, classes) method of tpot.tpot.TPOTClassifier instance\n",
      "    Fits a machine learning pipeline that maximizes classification score\n",
      "    on the provided data\n",
      "    \n",
      "    Uses genetic programming to optimize a machine learning pipeline that\n",
      "    maximizes classification score on the provided features and classes.\n",
      "    Performs an internal stratified training/testing cross-validaton split\n",
      "    to avoid overfitting on the provided data.\n",
      "    \n",
      "    Parameters\n",
      "    ----------\n",
      "    features: array-like {n_samples, n_features}\n",
      "        Feature matrix\n",
      "    classes: array-like {n_samples}\n",
      "        List of class labels for prediction\n",
      "    \n",
      "    Returns\n",
      "    -------\n",
      "    None\n",
      "\n"
     ]
    }
   ],
   "source": [
    "help(tpot.fit)"
   ]
  },
  {
   "cell_type": "code",
   "execution_count": 12,
   "metadata": {
    "collapsed": false
   },
   "outputs": [
    {
     "name": "stderr",
     "output_type": "stream",
     "text": [
      "Optimization Progress:   3%|▎         | 288/10100 [00:00<00:10, 907.81pipeline/s]"
     ]
    },
    {
     "name": "stdout",
     "output_type": "stream",
     "text": [
      "Generation 1 - Current Pareto front scores:\n",
      "5000\tinf\tGradientBoostingClassifier(input_matrix, 0.93000000000000005, 0.92000000000000004)\n",
      "\n",
      "Generation 2 - Current Pareto front scores:\n",
      "5000\tinf\tGradientBoostingClassifier(input_matrix, 0.93000000000000005, 0.92000000000000004)\n",
      "\n",
      "Generation 3 - Current Pareto front scores:\n",
      "5000\tinf\tGradientBoostingClassifier(input_matrix, 0.93000000000000005, 0.92000000000000004)\n",
      "\n"
     ]
    },
    {
     "name": "stderr",
     "output_type": "stream",
     "text": [
      "Optimization Progress:   5%|▌         | 514/10100 [00:00<00:12, 787.16pipeline/s]"
     ]
    },
    {
     "name": "stdout",
     "output_type": "stream",
     "text": [
      "Generation 4 - Current Pareto front scores:\n",
      "5000\tinf\tGradientBoostingClassifier(input_matrix, 0.93000000000000005, 0.92000000000000004)\n",
      "\n",
      "Generation 5 - Current Pareto front scores:\n",
      "5000\tinf\tGradientBoostingClassifier(input_matrix, 0.93000000000000005, 0.92000000000000004)\n",
      "\n"
     ]
    },
    {
     "name": "stderr",
     "output_type": "stream",
     "text": [
      "Optimization Progress:   7%|▋         | 723/10100 [00:00<00:13, 701.05pipeline/s]"
     ]
    },
    {
     "name": "stdout",
     "output_type": "stream",
     "text": [
      "Generation 6 - Current Pareto front scores:\n",
      "5000\tinf\tGradientBoostingClassifier(input_matrix, 0.93000000000000005, 0.92000000000000004)\n",
      "\n",
      "Generation 7 - Current Pareto front scores:\n",
      "5000\tinf\tGradientBoostingClassifier(input_matrix, 0.93000000000000005, 0.92000000000000004)\n",
      "\n"
     ]
    },
    {
     "name": "stderr",
     "output_type": "stream",
     "text": [
      "Optimization Progress:   9%|▉         | 890/10100 [00:01<00:13, 688.02pipeline/s]"
     ]
    },
    {
     "name": "stdout",
     "output_type": "stream",
     "text": [
      "Generation 8 - Current Pareto front scores:\n",
      "5000\tinf\tGradientBoostingClassifier(input_matrix, 0.93000000000000005, 0.92000000000000004)\n",
      "\n",
      "Generation 9 - Current Pareto front scores:\n",
      "5000\tinf\tGradientBoostingClassifier(input_matrix, 0.93000000000000005, 0.92000000000000004)\n",
      "\n"
     ]
    },
    {
     "name": "stderr",
     "output_type": "stream",
     "text": [
      "Optimization Progress:  11%|█         | 1101/10100 [00:01<00:12, 706.28pipeline/s]"
     ]
    },
    {
     "name": "stdout",
     "output_type": "stream",
     "text": [
      "Generation 10 - Current Pareto front scores:\n",
      "5000\tinf\tGradientBoostingClassifier(input_matrix, 0.93000000000000005, 0.92000000000000004)\n",
      "\n",
      "Generation 11 - Current Pareto front scores:\n",
      "5000\tinf\tGradientBoostingClassifier(input_matrix, 0.93000000000000005, 0.92000000000000004)\n",
      "\n"
     ]
    },
    {
     "name": "stderr",
     "output_type": "stream",
     "text": [
      "Optimization Progress:  13%|█▎        | 1334/10100 [00:01<00:11, 734.64pipeline/s]"
     ]
    },
    {
     "name": "stdout",
     "output_type": "stream",
     "text": [
      "Generation 12 - Current Pareto front scores:\n",
      "5000\tinf\tGradientBoostingClassifier(input_matrix, 0.93000000000000005, 0.92000000000000004)\n",
      "\n",
      "Generation 13 - Current Pareto front scores:\n",
      "5000\tinf\tGradientBoostingClassifier(input_matrix, 0.93000000000000005, 0.92000000000000004)\n",
      "\n"
     ]
    },
    {
     "name": "stderr",
     "output_type": "stream",
     "text": [
      "Optimization Progress:  15%|█▍        | 1494/10100 [00:02<00:12, 715.21pipeline/s]"
     ]
    },
    {
     "name": "stdout",
     "output_type": "stream",
     "text": [
      "Generation 14 - Current Pareto front scores:\n",
      "5000\tinf\tGradientBoostingClassifier(input_matrix, 0.93000000000000005, 0.92000000000000004)\n",
      "\n",
      "Generation 15 - Current Pareto front scores:\n",
      "5000\tinf\tGradientBoostingClassifier(input_matrix, 0.93000000000000005, 0.92000000000000004)\n",
      "\n"
     ]
    },
    {
     "name": "stderr",
     "output_type": "stream",
     "text": [
      "Optimization Progress:  17%|█▋        | 1727/10100 [00:02<00:11, 743.26pipeline/s]"
     ]
    },
    {
     "name": "stdout",
     "output_type": "stream",
     "text": [
      "Generation 16 - Current Pareto front scores:\n",
      "5000\tinf\tGradientBoostingClassifier(input_matrix, 0.93000000000000005, 0.92000000000000004)\n",
      "\n",
      "Generation 17 - Current Pareto front scores:\n",
      "5000\tinf\tGradientBoostingClassifier(input_matrix, 0.93000000000000005, 0.92000000000000004)\n",
      "\n"
     ]
    },
    {
     "name": "stderr",
     "output_type": "stream",
     "text": [
      "Optimization Progress:  19%|█▊        | 1891/10100 [00:02<00:10, 767.78pipeline/s]"
     ]
    },
    {
     "name": "stdout",
     "output_type": "stream",
     "text": [
      "Generation 18 - Current Pareto front scores:\n",
      "5000\tinf\tGradientBoostingClassifier(input_matrix, 0.93000000000000005, 0.92000000000000004)\n",
      "\n",
      "Generation 19 - Current Pareto front scores:\n",
      "5000\tinf\tGradientBoostingClassifier(input_matrix, 0.93000000000000005, 0.92000000000000004)\n",
      "\n"
     ]
    },
    {
     "name": "stderr",
     "output_type": "stream",
     "text": [
      "Optimization Progress:  21%|██        | 2107/10100 [00:02<00:12, 627.76pipeline/s]"
     ]
    },
    {
     "name": "stdout",
     "output_type": "stream",
     "text": [
      "Generation 20 - Current Pareto front scores:\n",
      "5000\tinf\tGradientBoostingClassifier(input_matrix, 0.93000000000000005, 0.92000000000000004)\n",
      "\n",
      "Generation 21 - Current Pareto front scores:\n",
      "5000\tinf\tGradientBoostingClassifier(input_matrix, 0.93000000000000005, 0.92000000000000004)\n",
      "\n"
     ]
    },
    {
     "name": "stderr",
     "output_type": "stream",
     "text": [
      "Optimization Progress:  23%|██▎       | 2315/10100 [00:03<00:11, 652.12pipeline/s]"
     ]
    },
    {
     "name": "stdout",
     "output_type": "stream",
     "text": [
      "Generation 22 - Current Pareto front scores:\n",
      "5000\tinf\tGradientBoostingClassifier(input_matrix, 0.93000000000000005, 0.92000000000000004)\n",
      "\n",
      "Generation 23 - Current Pareto front scores:\n",
      "5000\tinf\tGradientBoostingClassifier(input_matrix, 0.93000000000000005, 0.92000000000000004)\n",
      "\n"
     ]
    },
    {
     "name": "stderr",
     "output_type": "stream",
     "text": [
      "Optimization Progress:  25%|██▍       | 2489/10100 [00:03<00:10, 710.11pipeline/s]"
     ]
    },
    {
     "name": "stdout",
     "output_type": "stream",
     "text": [
      "Generation 24 - Current Pareto front scores:\n",
      "5000\tinf\tGradientBoostingClassifier(input_matrix, 0.93000000000000005, 0.92000000000000004)\n",
      "\n",
      "Generation 25 - Current Pareto front scores:\n",
      "5000\tinf\tGradientBoostingClassifier(input_matrix, 0.93000000000000005, 0.92000000000000004)\n",
      "\n"
     ]
    },
    {
     "name": "stderr",
     "output_type": "stream",
     "text": [
      "Optimization Progress:  27%|██▋       | 2691/10100 [00:03<00:11, 649.68pipeline/s]"
     ]
    },
    {
     "name": "stdout",
     "output_type": "stream",
     "text": [
      "Generation 26 - Current Pareto front scores:\n",
      "5000\tinf\tGradientBoostingClassifier(input_matrix, 0.93000000000000005, 0.92000000000000004)\n",
      "\n",
      "Generation 27 - Current Pareto front scores:\n",
      "5000\tinf\tGradientBoostingClassifier(input_matrix, 0.93000000000000005, 0.92000000000000004)\n",
      "\n"
     ]
    },
    {
     "name": "stderr",
     "output_type": "stream",
     "text": [
      "Optimization Progress:  29%|██▉       | 2911/10100 [00:04<00:10, 681.44pipeline/s]"
     ]
    },
    {
     "name": "stdout",
     "output_type": "stream",
     "text": [
      "Generation 28 - Current Pareto front scores:\n",
      "5000\tinf\tGradientBoostingClassifier(input_matrix, 0.93000000000000005, 0.92000000000000004)\n",
      "\n",
      "Generation 29 - Current Pareto front scores:\n",
      "5000\tinf\tGradientBoostingClassifier(input_matrix, 0.93000000000000005, 0.92000000000000004)\n",
      "\n"
     ]
    },
    {
     "name": "stderr",
     "output_type": "stream",
     "text": [
      "Optimization Progress:  31%|███       | 3101/10100 [00:04<00:09, 761.87pipeline/s]"
     ]
    },
    {
     "name": "stdout",
     "output_type": "stream",
     "text": [
      "Generation 30 - Current Pareto front scores:\n",
      "5000\tinf\tGradientBoostingClassifier(input_matrix, 0.93000000000000005, 0.92000000000000004)\n",
      "\n",
      "Generation 31 - Current Pareto front scores:\n",
      "5000\tinf\tGradientBoostingClassifier(input_matrix, 0.93000000000000005, 0.92000000000000004)\n",
      "\n"
     ]
    },
    {
     "name": "stderr",
     "output_type": "stream",
     "text": [
      "Optimization Progress:  33%|███▎      | 3288/10100 [00:04<00:09, 728.63pipeline/s]"
     ]
    },
    {
     "name": "stdout",
     "output_type": "stream",
     "text": [
      "Generation 32 - Current Pareto front scores:\n",
      "5000\tinf\tGradientBoostingClassifier(input_matrix, 0.93000000000000005, 0.92000000000000004)\n",
      "\n",
      "Generation 33 - Current Pareto front scores:\n",
      "5000\tinf\tGradientBoostingClassifier(input_matrix, 0.93000000000000005, 0.92000000000000004)\n",
      "\n"
     ]
    },
    {
     "name": "stderr",
     "output_type": "stream",
     "text": [
      "Optimization Progress:  35%|███▍      | 3494/10100 [00:04<00:09, 667.18pipeline/s]"
     ]
    },
    {
     "name": "stdout",
     "output_type": "stream",
     "text": [
      "Generation 34 - Current Pareto front scores:\n",
      "5000\tinf\tGradientBoostingClassifier(input_matrix, 0.93000000000000005, 0.92000000000000004)\n",
      "\n",
      "Generation 35 - Current Pareto front scores:\n",
      "5000\tinf\tGradientBoostingClassifier(input_matrix, 0.93000000000000005, 0.92000000000000004)\n",
      "\n"
     ]
    },
    {
     "name": "stderr",
     "output_type": "stream",
     "text": [
      "Optimization Progress:  37%|███▋      | 3701/10100 [00:05<00:09, 665.99pipeline/s]"
     ]
    },
    {
     "name": "stdout",
     "output_type": "stream",
     "text": [
      "Generation 36 - Current Pareto front scores:\n",
      "5000\tinf\tGradientBoostingClassifier(input_matrix, 0.93000000000000005, 0.92000000000000004)\n",
      "\n",
      "Generation 37 - Current Pareto front scores:\n",
      "5000\tinf\tGradientBoostingClassifier(input_matrix, 0.93000000000000005, 0.92000000000000004)\n",
      "\n"
     ]
    },
    {
     "name": "stderr",
     "output_type": "stream",
     "text": [
      "Optimization Progress:  39%|███▉      | 3924/10100 [00:05<00:08, 700.66pipeline/s]"
     ]
    },
    {
     "name": "stdout",
     "output_type": "stream",
     "text": [
      "Generation 38 - Current Pareto front scores:\n",
      "5000\tinf\tGradientBoostingClassifier(input_matrix, 0.93000000000000005, 0.92000000000000004)\n",
      "\n",
      "Generation 39 - Current Pareto front scores:\n",
      "5000\tinf\tGradientBoostingClassifier(input_matrix, 0.93000000000000005, 0.92000000000000004)\n",
      "\n"
     ]
    },
    {
     "name": "stderr",
     "output_type": "stream",
     "text": [
      "Optimization Progress:  41%|████      | 4093/10100 [00:05<00:08, 688.62pipeline/s]"
     ]
    },
    {
     "name": "stdout",
     "output_type": "stream",
     "text": [
      "Generation 40 - Current Pareto front scores:\n",
      "5000\tinf\tGradientBoostingClassifier(input_matrix, 0.93000000000000005, 0.92000000000000004)\n",
      "\n",
      "Generation 41 - Current Pareto front scores:\n",
      "5000\tinf\tGradientBoostingClassifier(input_matrix, 0.93000000000000005, 0.92000000000000004)\n",
      "\n"
     ]
    },
    {
     "name": "stderr",
     "output_type": "stream",
     "text": [
      "Optimization Progress:  43%|████▎     | 4300/10100 [00:06<00:08, 720.78pipeline/s]"
     ]
    },
    {
     "name": "stdout",
     "output_type": "stream",
     "text": [
      "Generation 42 - Current Pareto front scores:\n",
      "5000\tinf\tGradientBoostingClassifier(input_matrix, 0.93000000000000005, 0.92000000000000004)\n",
      "\n",
      "Generation 43 - Current Pareto front scores:\n",
      "5000\tinf\tGradientBoostingClassifier(input_matrix, 0.93000000000000005, 0.92000000000000004)\n",
      "\n"
     ]
    },
    {
     "name": "stderr",
     "output_type": "stream",
     "text": [
      "Optimization Progress:  45%|████▍     | 4529/10100 [00:06<00:07, 718.60pipeline/s]"
     ]
    },
    {
     "name": "stdout",
     "output_type": "stream",
     "text": [
      "Generation 44 - Current Pareto front scores:\n",
      "5000\tinf\tGradientBoostingClassifier(input_matrix, 0.93000000000000005, 0.92000000000000004)\n",
      "\n",
      "Generation 45 - Current Pareto front scores:\n",
      "5000\tinf\tGradientBoostingClassifier(input_matrix, 0.93000000000000005, 0.92000000000000004)\n",
      "\n"
     ]
    },
    {
     "name": "stderr",
     "output_type": "stream",
     "text": [
      "Optimization Progress:  46%|████▋     | 4693/10100 [00:06<00:07, 703.69pipeline/s]"
     ]
    },
    {
     "name": "stdout",
     "output_type": "stream",
     "text": [
      "Generation 46 - Current Pareto front scores:\n",
      "5000\tinf\tGradientBoostingClassifier(input_matrix, 0.93000000000000005, 0.92000000000000004)\n",
      "\n",
      "Generation 47 - Current Pareto front scores:\n",
      "5000\tinf\tGradientBoostingClassifier(input_matrix, 0.93000000000000005, 0.92000000000000004)\n",
      "\n"
     ]
    },
    {
     "name": "stderr",
     "output_type": "stream",
     "text": [
      "Optimization Progress:  48%|████▊     | 4894/10100 [00:06<00:07, 682.95pipeline/s]"
     ]
    },
    {
     "name": "stdout",
     "output_type": "stream",
     "text": [
      "Generation 48 - Current Pareto front scores:\n",
      "5000\tinf\tGradientBoostingClassifier(input_matrix, 0.93000000000000005, 0.92000000000000004)\n",
      "\n",
      "Generation 49 - Current Pareto front scores:\n",
      "5000\tinf\tGradientBoostingClassifier(input_matrix, 0.93000000000000005, 0.92000000000000004)\n",
      "\n"
     ]
    },
    {
     "name": "stderr",
     "output_type": "stream",
     "text": [
      "Optimization Progress:  51%|█████     | 5116/10100 [00:07<00:06, 713.04pipeline/s]"
     ]
    },
    {
     "name": "stdout",
     "output_type": "stream",
     "text": [
      "Generation 50 - Current Pareto front scores:\n",
      "5000\tinf\tGradientBoostingClassifier(input_matrix, 0.93000000000000005, 0.92000000000000004)\n",
      "\n",
      "Generation 51 - Current Pareto front scores:\n",
      "5000\tinf\tGradientBoostingClassifier(input_matrix, 0.93000000000000005, 0.92000000000000004)\n",
      "\n"
     ]
    },
    {
     "name": "stderr",
     "output_type": "stream",
     "text": [
      "Optimization Progress:  52%|█████▏    | 5300/10100 [00:07<00:06, 781.43pipeline/s]"
     ]
    },
    {
     "name": "stdout",
     "output_type": "stream",
     "text": [
      "Generation 52 - Current Pareto front scores:\n",
      "5000\tinf\tGradientBoostingClassifier(input_matrix, 0.93000000000000005, 0.92000000000000004)\n",
      "\n",
      "Generation 53 - Current Pareto front scores:\n",
      "5000\tinf\tGradientBoostingClassifier(input_matrix, 0.93000000000000005, 0.92000000000000004)\n",
      "\n"
     ]
    },
    {
     "name": "stderr",
     "output_type": "stream",
     "text": [
      "Optimization Progress:  55%|█████▍    | 5543/10100 [00:07<00:05, 784.76pipeline/s]"
     ]
    },
    {
     "name": "stdout",
     "output_type": "stream",
     "text": [
      "Generation 54 - Current Pareto front scores:\n",
      "5000\tinf\tGradientBoostingClassifier(input_matrix, 0.93000000000000005, 0.92000000000000004)\n",
      "\n",
      "Generation 55 - Current Pareto front scores:\n",
      "5000\tinf\tGradientBoostingClassifier(input_matrix, 0.93000000000000005, 0.92000000000000004)\n",
      "\n"
     ]
    },
    {
     "name": "stderr",
     "output_type": "stream",
     "text": [
      "Optimization Progress:  56%|█████▋    | 5704/10100 [00:07<00:05, 734.78pipeline/s]"
     ]
    },
    {
     "name": "stdout",
     "output_type": "stream",
     "text": [
      "Generation 56 - Current Pareto front scores:\n",
      "5000\tinf\tGradientBoostingClassifier(input_matrix, 0.93000000000000005, 0.92000000000000004)\n",
      "\n",
      "Generation 57 - Current Pareto front scores:\n",
      "5000\tinf\tGradientBoostingClassifier(input_matrix, 0.93000000000000005, 0.92000000000000004)\n",
      "\n"
     ]
    },
    {
     "name": "stderr",
     "output_type": "stream",
     "text": [
      "Optimization Progress:  59%|█████▉    | 5949/10100 [00:08<00:05, 786.92pipeline/s]"
     ]
    },
    {
     "name": "stdout",
     "output_type": "stream",
     "text": [
      "Generation 58 - Current Pareto front scores:\n",
      "5000\tinf\tGradientBoostingClassifier(input_matrix, 0.93000000000000005, 0.92000000000000004)\n",
      "\n",
      "Generation 59 - Current Pareto front scores:\n",
      "5000\tinf\tGradientBoostingClassifier(input_matrix, 0.93000000000000005, 0.92000000000000004)\n",
      "\n"
     ]
    },
    {
     "name": "stderr",
     "output_type": "stream",
     "text": [
      "Optimization Progress:  61%|██████    | 6116/10100 [00:08<00:04, 805.38pipeline/s]"
     ]
    },
    {
     "name": "stdout",
     "output_type": "stream",
     "text": [
      "Generation 60 - Current Pareto front scores:\n",
      "5000\tinf\tGradientBoostingClassifier(input_matrix, 0.93000000000000005, 0.92000000000000004)\n",
      "\n",
      "Generation 61 - Current Pareto front scores:\n",
      "5000\tinf\tGradientBoostingClassifier(input_matrix, 0.93000000000000005, 0.92000000000000004)\n",
      "\n"
     ]
    },
    {
     "name": "stderr",
     "output_type": "stream",
     "text": [
      "Optimization Progress:  62%|██████▏   | 6293/10100 [00:08<00:05, 676.92pipeline/s]"
     ]
    },
    {
     "name": "stdout",
     "output_type": "stream",
     "text": [
      "Generation 62 - Current Pareto front scores:\n",
      "5000\tinf\tGradientBoostingClassifier(input_matrix, 0.93000000000000005, 0.92000000000000004)\n",
      "\n",
      "Generation 63 - Current Pareto front scores:\n",
      "5000\tinf\tGradientBoostingClassifier(input_matrix, 0.93000000000000005, 0.92000000000000004)\n",
      "\n"
     ]
    },
    {
     "name": "stderr",
     "output_type": "stream",
     "text": [
      "Optimization Progress:  64%|██████▍   | 6491/10100 [00:09<00:05, 677.59pipeline/s]"
     ]
    },
    {
     "name": "stdout",
     "output_type": "stream",
     "text": [
      "Generation 64 - Current Pareto front scores:\n",
      "5000\tinf\tGradientBoostingClassifier(input_matrix, 0.93000000000000005, 0.92000000000000004)\n",
      "\n",
      "Generation 65 - Current Pareto front scores:\n",
      "5000\tinf\tGradientBoostingClassifier(input_matrix, 0.93000000000000005, 0.92000000000000004)\n",
      "\n"
     ]
    },
    {
     "name": "stderr",
     "output_type": "stream",
     "text": [
      "Optimization Progress:  66%|██████▋   | 6701/10100 [00:09<00:05, 675.91pipeline/s]"
     ]
    },
    {
     "name": "stdout",
     "output_type": "stream",
     "text": [
      "Generation 66 - Current Pareto front scores:\n",
      "5000\tinf\tGradientBoostingClassifier(input_matrix, 0.93000000000000005, 0.92000000000000004)\n",
      "\n",
      "Generation 67 - Current Pareto front scores:\n",
      "5000\tinf\tGradientBoostingClassifier(input_matrix, 0.93000000000000005, 0.92000000000000004)\n",
      "\n"
     ]
    },
    {
     "name": "stderr",
     "output_type": "stream",
     "text": [
      "Optimization Progress:  68%|██████▊   | 6891/10100 [00:09<00:04, 717.83pipeline/s]"
     ]
    },
    {
     "name": "stdout",
     "output_type": "stream",
     "text": [
      "Generation 68 - Current Pareto front scores:\n",
      "5000\tinf\tGradientBoostingClassifier(input_matrix, 0.93000000000000005, 0.92000000000000004)\n",
      "\n",
      "Generation 69 - Current Pareto front scores:\n",
      "5000\tinf\tGradientBoostingClassifier(input_matrix, 0.93000000000000005, 0.92000000000000004)\n",
      "\n"
     ]
    },
    {
     "name": "stderr",
     "output_type": "stream",
     "text": [
      "Optimization Progress:  70%|███████   | 7101/10100 [00:09<00:04, 702.29pipeline/s]"
     ]
    },
    {
     "name": "stdout",
     "output_type": "stream",
     "text": [
      "Generation 70 - Current Pareto front scores:\n",
      "5000\tinf\tGradientBoostingClassifier(input_matrix, 0.93000000000000005, 0.92000000000000004)\n",
      "\n",
      "Generation 71 - Current Pareto front scores:\n",
      "5000\tinf\tGradientBoostingClassifier(input_matrix, 0.93000000000000005, 0.92000000000000004)\n",
      "\n"
     ]
    },
    {
     "name": "stderr",
     "output_type": "stream",
     "text": [
      "Optimization Progress:  73%|███████▎  | 7335/10100 [00:10<00:03, 736.30pipeline/s]"
     ]
    },
    {
     "name": "stdout",
     "output_type": "stream",
     "text": [
      "Generation 72 - Current Pareto front scores:\n",
      "5000\tinf\tGradientBoostingClassifier(input_matrix, 0.93000000000000005, 0.92000000000000004)\n",
      "\n",
      "Generation 73 - Current Pareto front scores:\n",
      "5000\tinf\tGradientBoostingClassifier(input_matrix, 0.93000000000000005, 0.92000000000000004)\n",
      "\n"
     ]
    },
    {
     "name": "stderr",
     "output_type": "stream",
     "text": [
      "Optimization Progress:  74%|███████▍  | 7500/10100 [00:10<00:03, 767.41pipeline/s]"
     ]
    },
    {
     "name": "stdout",
     "output_type": "stream",
     "text": [
      "Generation 74 - Current Pareto front scores:\n",
      "5000\tinf\tGradientBoostingClassifier(input_matrix, 0.93000000000000005, 0.92000000000000004)\n",
      "\n",
      "Generation 75 - Current Pareto front scores:\n",
      "5000\tinf\tGradientBoostingClassifier(input_matrix, 0.93000000000000005, 0.92000000000000004)\n",
      "\n"
     ]
    },
    {
     "name": "stderr",
     "output_type": "stream",
     "text": [
      "Optimization Progress:  76%|███████▌  | 7690/10100 [00:10<00:03, 679.45pipeline/s]"
     ]
    },
    {
     "name": "stdout",
     "output_type": "stream",
     "text": [
      "Generation 76 - Current Pareto front scores:\n",
      "5000\tinf\tGradientBoostingClassifier(input_matrix, 0.93000000000000005, 0.92000000000000004)\n",
      "\n",
      "Generation 77 - Current Pareto front scores:\n",
      "5000\tinf\tGradientBoostingClassifier(input_matrix, 0.93000000000000005, 0.92000000000000004)\n",
      "\n"
     ]
    },
    {
     "name": "stderr",
     "output_type": "stream",
     "text": [
      "Optimization Progress:  78%|███████▊  | 7893/10100 [00:11<00:03, 697.25pipeline/s]"
     ]
    },
    {
     "name": "stdout",
     "output_type": "stream",
     "text": [
      "Generation 78 - Current Pareto front scores:\n",
      "5000\tinf\tGradientBoostingClassifier(input_matrix, 0.93000000000000005, 0.92000000000000004)\n",
      "\n",
      "Generation 79 - Current Pareto front scores:\n",
      "5000\tinf\tGradientBoostingClassifier(input_matrix, 0.93000000000000005, 0.92000000000000004)\n",
      "\n"
     ]
    },
    {
     "name": "stderr",
     "output_type": "stream",
     "text": [
      "Optimization Progress:  80%|████████  | 8108/10100 [00:11<00:02, 722.46pipeline/s]"
     ]
    },
    {
     "name": "stdout",
     "output_type": "stream",
     "text": [
      "Generation 80 - Current Pareto front scores:\n",
      "5000\tinf\tGradientBoostingClassifier(input_matrix, 0.93000000000000005, 0.92000000000000004)\n",
      "\n",
      "Generation 81 - Current Pareto front scores:\n",
      "5000\tinf\tGradientBoostingClassifier(input_matrix, 0.93000000000000005, 0.92000000000000004)\n",
      "\n"
     ]
    },
    {
     "name": "stderr",
     "output_type": "stream",
     "text": [
      "Optimization Progress:  82%|████████▏ | 8323/10100 [00:11<00:02, 684.72pipeline/s]"
     ]
    },
    {
     "name": "stdout",
     "output_type": "stream",
     "text": [
      "Generation 82 - Current Pareto front scores:\n",
      "5000\tinf\tGradientBoostingClassifier(input_matrix, 0.93000000000000005, 0.92000000000000004)\n",
      "\n",
      "Generation 83 - Current Pareto front scores:\n",
      "5000\tinf\tGradientBoostingClassifier(input_matrix, 0.93000000000000005, 0.92000000000000004)\n",
      "\n"
     ]
    },
    {
     "name": "stderr",
     "output_type": "stream",
     "text": [
      "Optimization Progress:  85%|████████▍ | 8537/10100 [00:11<00:02, 698.48pipeline/s]"
     ]
    },
    {
     "name": "stdout",
     "output_type": "stream",
     "text": [
      "Generation 84 - Current Pareto front scores:\n",
      "5000\tinf\tGradientBoostingClassifier(input_matrix, 0.93000000000000005, 0.92000000000000004)\n",
      "\n",
      "Generation 85 - Current Pareto front scores:\n",
      "5000\tinf\tGradientBoostingClassifier(input_matrix, 0.93000000000000005, 0.92000000000000004)\n",
      "\n"
     ]
    },
    {
     "name": "stderr",
     "output_type": "stream",
     "text": [
      "Optimization Progress:  86%|████████▌ | 8689/10100 [00:12<00:02, 680.94pipeline/s]"
     ]
    },
    {
     "name": "stdout",
     "output_type": "stream",
     "text": [
      "Generation 86 - Current Pareto front scores:\n",
      "5000\tinf\tGradientBoostingClassifier(input_matrix, 0.93000000000000005, 0.92000000000000004)\n",
      "\n",
      "Generation 87 - Current Pareto front scores:\n",
      "5000\tinf\tGradientBoostingClassifier(input_matrix, 0.93000000000000005, 0.92000000000000004)\n",
      "\n"
     ]
    },
    {
     "name": "stderr",
     "output_type": "stream",
     "text": [
      "Optimization Progress:  88%|████████▊ | 8901/10100 [00:12<00:01, 695.18pipeline/s]"
     ]
    },
    {
     "name": "stdout",
     "output_type": "stream",
     "text": [
      "Generation 88 - Current Pareto front scores:\n",
      "5000\tinf\tGradientBoostingClassifier(input_matrix, 0.93000000000000005, 0.92000000000000004)\n",
      "\n",
      "Generation 89 - Current Pareto front scores:\n",
      "5000\tinf\tGradientBoostingClassifier(input_matrix, 0.93000000000000005, 0.92000000000000004)\n",
      "\n"
     ]
    },
    {
     "name": "stderr",
     "output_type": "stream",
     "text": [
      "Optimization Progress:  90%|█████████ | 9101/10100 [00:12<00:01, 603.67pipeline/s]"
     ]
    },
    {
     "name": "stdout",
     "output_type": "stream",
     "text": [
      "Generation 90 - Current Pareto front scores:\n",
      "5000\tinf\tGradientBoostingClassifier(input_matrix, 0.93000000000000005, 0.92000000000000004)\n",
      "\n",
      "Generation 91 - Current Pareto front scores:\n",
      "5000\tinf\tGradientBoostingClassifier(input_matrix, 0.93000000000000005, 0.92000000000000004)\n",
      "\n"
     ]
    },
    {
     "name": "stderr",
     "output_type": "stream",
     "text": [
      "Optimization Progress:  92%|█████████▏| 9314/10100 [00:13<00:01, 664.71pipeline/s]"
     ]
    },
    {
     "name": "stdout",
     "output_type": "stream",
     "text": [
      "Generation 92 - Current Pareto front scores:\n",
      "5000\tinf\tGradientBoostingClassifier(input_matrix, 0.93000000000000005, 0.92000000000000004)\n",
      "\n",
      "Generation 93 - Current Pareto front scores:\n",
      "5000\tinf\tGradientBoostingClassifier(input_matrix, 0.93000000000000005, 0.92000000000000004)\n",
      "\n"
     ]
    },
    {
     "name": "stderr",
     "output_type": "stream",
     "text": [
      "Optimization Progress:  94%|█████████▍| 9542/10100 [00:13<00:00, 717.84pipeline/s]"
     ]
    },
    {
     "name": "stdout",
     "output_type": "stream",
     "text": [
      "Generation 94 - Current Pareto front scores:\n",
      "5000\tinf\tGradientBoostingClassifier(input_matrix, 0.93000000000000005, 0.92000000000000004)\n",
      "\n",
      "Generation 95 - Current Pareto front scores:\n",
      "5000\tinf\tGradientBoostingClassifier(input_matrix, 0.93000000000000005, 0.92000000000000004)\n",
      "\n"
     ]
    },
    {
     "name": "stderr",
     "output_type": "stream",
     "text": [
      "Optimization Progress:  96%|█████████▌| 9701/10100 [00:13<00:00, 703.59pipeline/s]"
     ]
    },
    {
     "name": "stdout",
     "output_type": "stream",
     "text": [
      "Generation 96 - Current Pareto front scores:\n",
      "5000\tinf\tGradientBoostingClassifier(input_matrix, 0.93000000000000005, 0.92000000000000004)\n",
      "\n",
      "Generation 97 - Current Pareto front scores:\n",
      "5000\tinf\tGradientBoostingClassifier(input_matrix, 0.93000000000000005, 0.92000000000000004)\n",
      "\n"
     ]
    },
    {
     "name": "stderr",
     "output_type": "stream",
     "text": [
      "Optimization Progress:  98%|█████████▊| 9922/10100 [00:14<00:00, 718.43pipeline/s]"
     ]
    },
    {
     "name": "stdout",
     "output_type": "stream",
     "text": [
      "Generation 98 - Current Pareto front scores:\n",
      "5000\tinf\tGradientBoostingClassifier(input_matrix, 0.93000000000000005, 0.92000000000000004)\n",
      "\n",
      "Generation 99 - Current Pareto front scores:\n",
      "5000\tinf\tGradientBoostingClassifier(input_matrix, 0.93000000000000005, 0.92000000000000004)\n",
      "\n"
     ]
    },
    {
     "name": "stderr",
     "output_type": "stream",
     "text": []
    },
    {
     "name": "stdout",
     "output_type": "stream",
     "text": [
      "Generation 100 - Current Pareto front scores:\n",
      "5000\tinf\tGradientBoostingClassifier(input_matrix, 0.93000000000000005, 0.92000000000000004)\n",
      "\n"
     ]
    },
    {
     "ename": "ValueError",
     "evalue": "There was an error in the TPOT optimization process. This could be because the data was not formatted properly, or because data for a regression problem was provided to the TPOTClassifier object. Please make sure you passed the data to TPOT correctly.",
     "output_type": "error",
     "traceback": [
      "\u001b[1;31m---------------------------------------------------------------------------\u001b[0m",
      "\u001b[1;31mValueError\u001b[0m                                Traceback (most recent call last)",
      "\u001b[1;32m<ipython-input-12-f19f3d499d54>\u001b[0m in \u001b[0;36m<module>\u001b[1;34m()\u001b[0m\n\u001b[1;32m----> 1\u001b[1;33m \u001b[0mtpot\u001b[0m\u001b[1;33m.\u001b[0m\u001b[0mfit\u001b[0m\u001b[1;33m(\u001b[0m\u001b[0mpd\u001b[0m\u001b[1;33m.\u001b[0m\u001b[0mnp\u001b[0m\u001b[1;33m.\u001b[0m\u001b[0marray\u001b[0m\u001b[1;33m(\u001b[0m\u001b[0mp_train\u001b[0m\u001b[1;33m[\u001b[0m\u001b[0mtrain_cols\u001b[0m\u001b[1;33m]\u001b[0m\u001b[1;33m)\u001b[0m\u001b[1;33m,\u001b[0m \u001b[0mpd\u001b[0m\u001b[1;33m.\u001b[0m\u001b[0mnp\u001b[0m\u001b[1;33m.\u001b[0m\u001b[0marray\u001b[0m\u001b[1;33m(\u001b[0m\u001b[0mp_train\u001b[0m\u001b[1;33m[\u001b[0m\u001b[0mtarget_var\u001b[0m\u001b[1;33m]\u001b[0m\u001b[1;33m)\u001b[0m\u001b[1;33m)\u001b[0m\u001b[1;33m\u001b[0m\u001b[0m\n\u001b[0m",
      "\u001b[1;32m/home/jayant/anaconda3/lib/python3.5/site-packages/tpot/base.py\u001b[0m in \u001b[0;36mfit\u001b[1;34m(self, features, classes)\u001b[0m\n\u001b[0;32m    354\u001b[0m \u001b[1;33m\u001b[0m\u001b[0m\n\u001b[0;32m    355\u001b[0m                 \u001b[1;32mif\u001b[0m \u001b[1;32mnot\u001b[0m \u001b[0mself\u001b[0m\u001b[1;33m.\u001b[0m\u001b[0m_optimized_pipeline\u001b[0m\u001b[1;33m:\u001b[0m\u001b[1;33m\u001b[0m\u001b[0m\n\u001b[1;32m--> 356\u001b[1;33m                     raise ValueError('There was an error in the TPOT optimization '\n\u001b[0m\u001b[0;32m    357\u001b[0m                                      \u001b[1;34m'process. This could be because the data was '\u001b[0m\u001b[1;33m\u001b[0m\u001b[0m\n\u001b[0;32m    358\u001b[0m                                      \u001b[1;34m'not formatted properly, or because data for '\u001b[0m\u001b[1;33m\u001b[0m\u001b[0m\n",
      "\u001b[1;31mValueError\u001b[0m: There was an error in the TPOT optimization process. This could be because the data was not formatted properly, or because data for a regression problem was provided to the TPOTClassifier object. Please make sure you passed the data to TPOT correctly."
     ]
    }
   ],
   "source": [
    "tpot.fit(pd.np.array(p_train[train_cols]), pd.np.array(p_train[target_var]))"
   ]
  },
  {
   "cell_type": "code",
   "execution_count": 21,
   "metadata": {
    "collapsed": false
   },
   "outputs": [
    {
     "data": {
      "text/html": [
       "<div>\n",
       "<table border=\"1\" class=\"dataframe\">\n",
       "  <thead>\n",
       "    <tr style=\"text-align: right;\">\n",
       "      <th></th>\n",
       "      <th>combined_var</th>\n",
       "      <th>rotting_flesh</th>\n",
       "      <th>bone_length</th>\n",
       "      <th>has_soul</th>\n",
       "      <th>hair_length</th>\n",
       "    </tr>\n",
       "  </thead>\n",
       "  <tbody>\n",
       "    <tr>\n",
       "      <th>219</th>\n",
       "      <td>0.531771</td>\n",
       "      <td>0.415485</td>\n",
       "      <td>0.489446</td>\n",
       "      <td>0.503475</td>\n",
       "      <td>0.825953</td>\n",
       "    </tr>\n",
       "    <tr>\n",
       "      <th>262</th>\n",
       "      <td>0.387865</td>\n",
       "      <td>0.497112</td>\n",
       "      <td>0.209997</td>\n",
       "      <td>0.327212</td>\n",
       "      <td>0.642451</td>\n",
       "    </tr>\n",
       "    <tr>\n",
       "      <th>6</th>\n",
       "      <td>0.434517</td>\n",
       "      <td>0.568952</td>\n",
       "      <td>0.399331</td>\n",
       "      <td>0.467901</td>\n",
       "      <td>0.618391</td>\n",
       "    </tr>\n",
       "    <tr>\n",
       "      <th>359</th>\n",
       "      <td>0.421345</td>\n",
       "      <td>0.172182</td>\n",
       "      <td>0.626017</td>\n",
       "      <td>0.644941</td>\n",
       "      <td>0.408422</td>\n",
       "    </tr>\n",
       "    <tr>\n",
       "      <th>220</th>\n",
       "      <td>0.223747</td>\n",
       "      <td>0.648866</td>\n",
       "      <td>0.168909</td>\n",
       "      <td>0.255440</td>\n",
       "      <td>0.303927</td>\n",
       "    </tr>\n",
       "  </tbody>\n",
       "</table>\n",
       "</div>"
      ],
      "text/plain": [
       "     combined_var  rotting_flesh  bone_length  has_soul  hair_length\n",
       "219      0.531771       0.415485     0.489446  0.503475     0.825953\n",
       "262      0.387865       0.497112     0.209997  0.327212     0.642451\n",
       "6        0.434517       0.568952     0.399331  0.467901     0.618391\n",
       "359      0.421345       0.172182     0.626017  0.644941     0.408422\n",
       "220      0.223747       0.648866     0.168909  0.255440     0.303927"
      ]
     },
     "execution_count": 21,
     "metadata": {},
     "output_type": "execute_result"
    }
   ],
   "source": [
    "p_train[train_cols].head()"
   ]
  },
  {
   "cell_type": "code",
   "execution_count": 23,
   "metadata": {
    "collapsed": false
   },
   "outputs": [
    {
     "data": {
      "text/html": [
       "<div>\n",
       "<table border=\"1\" class=\"dataframe\">\n",
       "  <thead>\n",
       "    <tr style=\"text-align: right;\">\n",
       "      <th></th>\n",
       "      <th>type</th>\n",
       "    </tr>\n",
       "  </thead>\n",
       "  <tbody>\n",
       "    <tr>\n",
       "      <th>219</th>\n",
       "      <td>0.0</td>\n",
       "    </tr>\n",
       "    <tr>\n",
       "      <th>262</th>\n",
       "      <td>1.0</td>\n",
       "    </tr>\n",
       "    <tr>\n",
       "      <th>6</th>\n",
       "      <td>1.0</td>\n",
       "    </tr>\n",
       "    <tr>\n",
       "      <th>359</th>\n",
       "      <td>0.0</td>\n",
       "    </tr>\n",
       "    <tr>\n",
       "      <th>220</th>\n",
       "      <td>2.0</td>\n",
       "    </tr>\n",
       "  </tbody>\n",
       "</table>\n",
       "</div>"
      ],
      "text/plain": [
       "     type\n",
       "219   0.0\n",
       "262   1.0\n",
       "6     1.0\n",
       "359   0.0\n",
       "220   2.0"
      ]
     },
     "execution_count": 23,
     "metadata": {},
     "output_type": "execute_result"
    }
   ],
   "source": [
    "p_train[target_var].head()"
   ]
  },
  {
   "cell_type": "code",
   "execution_count": null,
   "metadata": {
    "collapsed": true
   },
   "outputs": [],
   "source": []
  }
 ],
 "metadata": {
  "kernelspec": {
   "display_name": "Python 3",
   "language": "python",
   "name": "python3"
  },
  "language_info": {
   "codemirror_mode": {
    "name": "ipython",
    "version": 3
   },
   "file_extension": ".py",
   "mimetype": "text/x-python",
   "name": "python",
   "nbconvert_exporter": "python",
   "pygments_lexer": "ipython3",
   "version": "3.5.2"
  }
 },
 "nbformat": 4,
 "nbformat_minor": 0
}
