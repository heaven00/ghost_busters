{
 "cells": [
  {
   "cell_type": "code",
   "execution_count": 97,
   "metadata": {
    "collapsed": false
   },
   "outputs": [],
   "source": [
    "import pandas as pd\n",
    "import xgboost as xgb\n",
    "\n",
    "from keras.layers import Dense, Dropout, Input\n",
    "from keras.models import Model\n",
    "from keras.utils.np_utils import to_categorical\n",
    "\n",
    "from sklearn.metrics import accuracy_score"
   ]
  },
  {
   "cell_type": "code",
   "execution_count": 6,
   "metadata": {
    "collapsed": false
   },
   "outputs": [],
   "source": [
    "train_data = pd.read_csv('data/train.csv', low_memory=False)\n",
    "test_data = pd.read_csv('data/test.csv', low_memory=False)\n",
    "\n",
    "combined_set = pd.concat([train_data, test_data])\n",
    "combined_set['combined_var'] = (combined_set.hair_length * .40) + (combined_set.has_soul * .40)\n"
   ]
  },
  {
   "cell_type": "code",
   "execution_count": 7,
   "metadata": {
    "collapsed": true
   },
   "outputs": [],
   "source": [
    "# Replace categorical variables with numbers\n",
    "def label_encoding(df, col):\n",
    "    label_map = { key: float(n) for n, key in enumerate(df[col].unique()) }\n",
    "    label_reverse_map = { label_map[key]: key for key in label_map }\n",
    "    df[col] = df[col].apply(lambda x: label_map[x])\n",
    "    return df, label_map, label_reverse_map\n",
    "\n",
    "combined_set, _, _ = label_encoding(combined_set, 'color')\n"
   ]
  },
  {
   "cell_type": "code",
   "execution_count": 8,
   "metadata": {
    "collapsed": false
   },
   "outputs": [
    {
     "name": "stderr",
     "output_type": "stream",
     "text": [
      "/home/jayant/anaconda3/lib/python3.5/site-packages/ipykernel/__main__.py:5: SettingWithCopyWarning: \n",
      "A value is trying to be set on a copy of a slice from a DataFrame.\n",
      "Try using .loc[row_indexer,col_indexer] = value instead\n",
      "\n",
      "See the caveats in the documentation: http://pandas.pydata.org/pandas-docs/stable/indexing.html#indexing-view-versus-copy\n"
     ]
    }
   ],
   "source": [
    "train_set = combined_set[:len(train_data.index)]\n",
    "test_set = combined_set[len(train_data.index):]\n",
    "\n",
    "train_set, type_label_map, type_label_reverse_map = label_encoding(train_set, 'type')\n"
   ]
  },
  {
   "cell_type": "code",
   "execution_count": 9,
   "metadata": {
    "collapsed": true
   },
   "outputs": [],
   "source": [
    "train_cols = ['combined_var', 'rotting_flesh', 'bone_length', 'has_soul']\n",
    "target_var = 'type'\n",
    "selected_cols = train_cols + [target_var]"
   ]
  },
  {
   "cell_type": "code",
   "execution_count": 10,
   "metadata": {
    "collapsed": true
   },
   "outputs": [],
   "source": [
    "dtrain = xgb.DMatrix(train_set[train_cols], feature_names=train_cols, label=train_set[target_var])\n",
    "dtest = xgb.DMatrix(test_set[train_cols], feature_names=train_cols)\n"
   ]
  },
  {
   "cell_type": "code",
   "execution_count": 13,
   "metadata": {
    "collapsed": true
   },
   "outputs": [],
   "source": [
    "params = {'max_depth':5, 'eta':0.0001, 'silent':1, 'objective':'multi:softprob'}\n",
    "params['num_class'] = 3\n",
    "params['seed'] = 7\n",
    "params['subsample'] = 0.6\n",
    "params['gamma'] = 4\n",
    "params['min_child_weight'] = 0\n",
    "params['tree_method'] = 'exact'\n",
    "params['sketch_eps'] = 0.4"
   ]
  },
  {
   "cell_type": "code",
   "execution_count": 14,
   "metadata": {
    "collapsed": true
   },
   "outputs": [],
   "source": [
    "model = xgb.train(params, dtrain, num_boost_round=50)"
   ]
  },
  {
   "cell_type": "code",
   "execution_count": 26,
   "metadata": {
    "collapsed": false
   },
   "outputs": [
    {
     "name": "stderr",
     "output_type": "stream",
     "text": [
      "/home/jayant/anaconda3/lib/python3.5/site-packages/xgboost/core.py:840: VisibleDeprecationWarning: using a non-integer number instead of an integer will result in an error in the future\n",
      "  preds = preds.reshape(nrow, preds.size / nrow)\n"
     ]
    }
   ],
   "source": [
    "predictions = model.predict(dtest)\n",
    "train_predictions = model.predict(dtrain)"
   ]
  },
  {
   "cell_type": "code",
   "execution_count": 32,
   "metadata": {
    "collapsed": false
   },
   "outputs": [
    {
     "name": "stdout",
     "output_type": "stream",
     "text": [
      "      Ghoul    Goblin     Ghost  type\n",
      "0  0.334635  0.333100  0.332265   0.0\n",
      "1  0.332946  0.334293  0.332761   1.0\n",
      "2  0.334852  0.332871  0.332277   0.0\n",
      "3  0.335122  0.332664  0.332213   0.0\n",
      "4  0.333950  0.333359  0.332691   2.0\n"
     ]
    }
   ],
   "source": [
    "nn_input = pd.DataFrame(train_predictions)\n",
    "nn_input.columns = [type_label_reverse_map[x] for x in nn_input.columns]\n",
    "nn_input['type'] = dtrain.get_label()\n",
    "print(nn_input.head())\n",
    "\n",
    "nn_test = pd.DataFrame(predictions)\n",
    "nn_test.columns = [type_label_reverse_map[x] for x in nn_test.columns]"
   ]
  },
  {
   "cell_type": "code",
   "execution_count": 109,
   "metadata": {
    "collapsed": false
   },
   "outputs": [],
   "source": [
    "nn_train = nn_input[:int(len(nn_input)*.90)]\n",
    "nn_validate = nn_input[int(len(nn_input)*.90):]"
   ]
  },
  {
   "cell_type": "code",
   "execution_count": 117,
   "metadata": {
    "collapsed": true
   },
   "outputs": [],
   "source": [
    "def make_model(inps=3):\n",
    "    inputs    = Input(shape=(inps, ))\n",
    "    dense_1   = Dense(24, activation='softmax')(inputs)\n",
    "    dropout_1 = Dropout(0.1)(dense_1)\n",
    "    dense_2   = Dense(6, activation='softmax')(inputs)\n",
    "    dropout_2 = Dropout(1)(dense_2)\n",
    "    output    = Dense(3, activation='softmax')(dropout_2)\n",
    "    \n",
    "    nnet = Model(input=inputs, output=output)\n",
    "    nnet.compile(loss='categorical_crossentropy', optimizer='rmsprop')\n",
    "    return nnet"
   ]
  },
  {
   "cell_type": "code",
   "execution_count": 118,
   "metadata": {
    "collapsed": false
   },
   "outputs": [],
   "source": [
    "nnet = make_model(3)"
   ]
  },
  {
   "cell_type": "code",
   "execution_count": 119,
   "metadata": {
    "collapsed": false
   },
   "outputs": [],
   "source": [
    "nn_cols = ['Ghoul', 'Goblin', 'Ghost']\n",
    "nn_target = ['type']"
   ]
  },
  {
   "cell_type": "code",
   "execution_count": 120,
   "metadata": {
    "collapsed": false,
    "scrolled": true
   },
   "outputs": [
    {
     "name": "stdout",
     "output_type": "stream",
     "text": [
      "Train on 333 samples, validate on 38 samples\n",
      "Epoch 1/40\n",
      "333/333 [==============================] - 0s - loss: 1.1295 - val_loss: 1.1113\n",
      "Epoch 2/40\n",
      "333/333 [==============================] - 0s - loss: 1.1203 - val_loss: 1.1053\n",
      "Epoch 3/40\n",
      "333/333 [==============================] - 0s - loss: 1.1140 - val_loss: 1.1012\n",
      "Epoch 4/40\n",
      "333/333 [==============================] - 0s - loss: 1.1095 - val_loss: 1.0985\n",
      "Epoch 5/40\n",
      "333/333 [==============================] - 0s - loss: 1.1063 - val_loss: 1.0968\n",
      "Epoch 6/40\n",
      "333/333 [==============================] - 0s - loss: 1.1040 - val_loss: 1.0958\n",
      "Epoch 7/40\n",
      "333/333 [==============================] - 0s - loss: 1.1024 - val_loss: 1.0951\n",
      "Epoch 8/40\n",
      "333/333 [==============================] - 0s - loss: 1.1013 - val_loss: 1.0948\n",
      "Epoch 9/40\n",
      "333/333 [==============================] - 0s - loss: 1.1005 - val_loss: 1.0947\n",
      "Epoch 10/40\n",
      "333/333 [==============================] - 0s - loss: 1.1000 - val_loss: 1.0946\n",
      "Epoch 11/40\n",
      "333/333 [==============================] - 0s - loss: 1.0996 - val_loss: 1.0946\n",
      "Epoch 12/40\n",
      "333/333 [==============================] - 0s - loss: 1.0993 - val_loss: 1.0947\n",
      "Epoch 13/40\n",
      "333/333 [==============================] - 0s - loss: 1.0991 - val_loss: 1.0948\n",
      "Epoch 14/40\n",
      "333/333 [==============================] - 0s - loss: 1.0990 - val_loss: 1.0949\n",
      "Epoch 15/40\n",
      "333/333 [==============================] - 0s - loss: 1.0989 - val_loss: 1.0949\n",
      "Epoch 16/40\n",
      "333/333 [==============================] - 0s - loss: 1.0988 - val_loss: 1.0950\n",
      "Epoch 17/40\n",
      "333/333 [==============================] - 0s - loss: 1.0988 - val_loss: 1.0951\n",
      "Epoch 18/40\n",
      "333/333 [==============================] - 0s - loss: 1.0987 - val_loss: 1.0951\n",
      "Epoch 19/40\n",
      "333/333 [==============================] - 0s - loss: 1.0987 - val_loss: 1.0952\n",
      "Epoch 20/40\n",
      "333/333 [==============================] - 0s - loss: 1.0987 - val_loss: 1.0952\n",
      "Epoch 21/40\n",
      "333/333 [==============================] - 0s - loss: 1.0987 - val_loss: 1.0953\n",
      "Epoch 22/40\n",
      "333/333 [==============================] - 0s - loss: 1.0987 - val_loss: 1.0953\n",
      "Epoch 23/40\n",
      "333/333 [==============================] - 0s - loss: 1.0986 - val_loss: 1.0953\n",
      "Epoch 24/40\n",
      "333/333 [==============================] - 0s - loss: 1.0986 - val_loss: 1.0954\n",
      "Epoch 25/40\n",
      "333/333 [==============================] - 0s - loss: 1.0986 - val_loss: 1.0954\n",
      "Epoch 26/40\n",
      "333/333 [==============================] - 0s - loss: 1.0986 - val_loss: 1.0954\n",
      "Epoch 27/40\n",
      "333/333 [==============================] - 0s - loss: 1.0986 - val_loss: 1.0954\n",
      "Epoch 28/40\n",
      "333/333 [==============================] - 0s - loss: 1.0986 - val_loss: 1.0954\n",
      "Epoch 29/40\n",
      "333/333 [==============================] - 0s - loss: 1.0986 - val_loss: 1.0954\n",
      "Epoch 30/40\n",
      "333/333 [==============================] - 0s - loss: 1.0986 - val_loss: 1.0954\n",
      "Epoch 31/40\n",
      "333/333 [==============================] - 0s - loss: 1.0986 - val_loss: 1.0954\n",
      "Epoch 32/40\n",
      "333/333 [==============================] - 0s - loss: 1.0986 - val_loss: 1.0954\n",
      "Epoch 33/40\n",
      "333/333 [==============================] - 0s - loss: 1.0986 - val_loss: 1.0954\n",
      "Epoch 34/40\n",
      "333/333 [==============================] - 0s - loss: 1.0986 - val_loss: 1.0954\n",
      "Epoch 35/40\n",
      "333/333 [==============================] - 0s - loss: 1.0986 - val_loss: 1.0954\n",
      "Epoch 36/40\n",
      "333/333 [==============================] - 0s - loss: 1.0986 - val_loss: 1.0955\n",
      "Epoch 37/40\n",
      "333/333 [==============================] - 0s - loss: 1.0986 - val_loss: 1.0955\n",
      "Epoch 38/40\n",
      "333/333 [==============================] - 0s - loss: 1.0986 - val_loss: 1.0955\n",
      "Epoch 39/40\n",
      "333/333 [==============================] - 0s - loss: 1.0986 - val_loss: 1.0955\n",
      "Epoch 40/40\n",
      "333/333 [==============================] - 0s - loss: 1.0986 - val_loss: 1.0955\n"
     ]
    },
    {
     "data": {
      "text/plain": [
       "<keras.callbacks.History at 0x7fc2feb17ef0>"
      ]
     },
     "execution_count": 120,
     "metadata": {},
     "output_type": "execute_result"
    }
   ],
   "source": [
    "nnet.fit(nn_train[nn_cols].values, pd.get_dummies(nn_train[target], columns=target).values, batch_size=6, nb_epoch=40, shuffle=False,\n",
    "         validation_data=(nn_validate[nn_cols].values, pd.get_dummies(nn_validate[target], columns=target).values))"
   ]
  },
  {
   "cell_type": "code",
   "execution_count": 121,
   "metadata": {
    "collapsed": false
   },
   "outputs": [
    {
     "data": {
      "text/plain": [
       "0.36842105263157893"
      ]
     },
     "execution_count": 121,
     "metadata": {},
     "output_type": "execute_result"
    }
   ],
   "source": [
    "accuracy_score(nn_validate[target].values,\n",
    "    pd.np.argmax(nnet.predict(nn_validate[nn_cols].values), axis=1))"
   ]
  },
  {
   "cell_type": "markdown",
   "metadata": {},
   "source": [
    "This Failed Misserably the data is too less maybe..."
   ]
  },
  {
   "cell_type": "code",
   "execution_count": null,
   "metadata": {
    "collapsed": true
   },
   "outputs": [],
   "source": []
  }
 ],
 "metadata": {
  "kernelspec": {
   "display_name": "Python 3",
   "language": "python",
   "name": "python3"
  },
  "language_info": {
   "codemirror_mode": {
    "name": "ipython",
    "version": 3
   },
   "file_extension": ".py",
   "mimetype": "text/x-python",
   "name": "python",
   "nbconvert_exporter": "python",
   "pygments_lexer": "ipython3",
   "version": "3.5.2"
  }
 },
 "nbformat": 4,
 "nbformat_minor": 0
}
